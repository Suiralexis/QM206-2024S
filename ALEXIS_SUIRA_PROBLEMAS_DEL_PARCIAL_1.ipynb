{
  "nbformat": 4,
  "nbformat_minor": 0,
  "metadata": {
    "colab": {
      "provenance": [],
      "authorship_tag": "ABX9TyOQ3DDl3dIG2qHydcCv7DGz",
      "include_colab_link": true
    },
    "kernelspec": {
      "name": "python3",
      "display_name": "Python 3"
    },
    "language_info": {
      "name": "python"
    }
  },
  "cells": [
    {
      "cell_type": "markdown",
      "metadata": {
        "id": "view-in-github",
        "colab_type": "text"
      },
      "source": [
        "<a href=\"https://colab.research.google.com/github/Suiralexis/QM206-2024S/blob/main/ALEXIS_SUIRA_PROBLEMAS_DEL_PARCIAL_1.ipynb\" target=\"_parent\"><img src=\"https://colab.research.google.com/assets/colab-badge.svg\" alt=\"Open In Colab\"/></a>"
      ]
    },
    {
      "cell_type": "code",
      "execution_count": null,
      "metadata": {
        "id": "SRxy_IH1Grc_",
        "colab": {
          "base_uri": "https://localhost:8080/"
        },
        "outputId": "2553bd2d-6924-46df-a806-d264bec6b70e"
      },
      "outputs": [
        {
          "output_type": "stream",
          "name": "stdout",
          "text": [
            "Molaridad de la solución de NaCl: 0.3422313483915127 mol/L\n"
          ]
        }
      ],
      "source": [
        "# Problema 1: Función que calcule la molaridad de una solución\n",
        "# Fórmula general: M = molesSoluto / volumenL\n",
        "# Parámetros: masa en gramos, peso molecular (g/mol), volumen en mL\n",
        "\n",
        "def calcularMolaridad(masaSoluto, pesoMolecular, volumenMl):\n",
        "    molesSoluto = masaSoluto / pesoMolecular\n",
        "    volumenL = volumenMl / 1000\n",
        "    M = molesSoluto / volumenL\n",
        "    return M\n",
        "\n",
        "# Ejemplo #1: Cálculo de la molaridad de NaCl\n",
        "molaridad1 = calcularMolaridad(10, 58.44, 500)\n",
        "print(f\"Molaridad de la solución de NaCl: {molaridad1} mol/L\")\n"
      ]
    },
    {
      "cell_type": "code",
      "source": [
        "import math\n",
        "\n",
        "# Problema 2: Función que calcule el pH de una solución de un ácido fuerte\n",
        "# Fórmula general: pH = -log10([H+])\n",
        "# Parámetro: concentración de iones de hidrógeno en mol/L.\n",
        "\n",
        "def calcularPh(concentracionH):\n",
        "    return -math.log10(concentracionH)\n",
        "\n",
        "# Ejemplo #2: Cálculo del pH de una solución de ácido fuerte con concentración 0.01 M\n",
        "ph1 = calcularPh(0.01)\n",
        "print(f\"pH de la solución: {ph1}\")\n"
      ],
      "metadata": {
        "colab": {
          "base_uri": "https://localhost:8080/"
        },
        "id": "wq31JjnrIthr",
        "outputId": "6172fd99-e60f-4255-ef84-59eadfbc1a1e"
      },
      "execution_count": null,
      "outputs": [
        {
          "output_type": "stream",
          "name": "stdout",
          "text": [
            "pH de la solución: 2.0\n"
          ]
        }
      ]
    },
    {
      "cell_type": "code",
      "source": [
        "# Problema 3: Función que calcula la masa molar de un gas ideal\n",
        "# Fórmula general: M = (masa * R * T) / (P * V)\n",
        "# Parámetros: masa en gramos, volumen en mL, temperatura en °C, presión en atm.\n",
        "\n",
        "def calcularMasaMolar(masa, volumenMl, temperaturaC, presionAtm):\n",
        "    volumenL = volumenMl / 1000  # Convertir volumen de mL a L\n",
        "    temperaturaK = temperaturaC + 273.15  # Convertir temperatura de °C a K\n",
        "    R = 0.0821  # Constante de los gases en L·atm/(mol·K)\n",
        "    M = (masa * R * temperaturaK) / (presionAtm * volumenL)\n",
        "    return M\n",
        "\n",
        "# Ejemplo #3: Cálculo de la masa molar para un gas ideal con masa 10 g, volumen 200 mL, temperatura 25°C, y presión 1 atm\n",
        "masaMolar1 = calcularMasaMolar(10, 200, 25, 1)\n",
        "print(f\"Masa molar del gas: {masaMolar1} g/mol\")\n"
      ],
      "metadata": {
        "colab": {
          "base_uri": "https://localhost:8080/"
        },
        "id": "QkF1OUDaJvR4",
        "outputId": "f2555be2-2d6e-432e-faf7-7369b9e5c147"
      },
      "execution_count": null,
      "outputs": [
        {
          "output_type": "stream",
          "name": "stdout",
          "text": [
            "Masa molar del gas: 1223.90575 g/mol\n"
          ]
        }
      ]
    },
    {
      "cell_type": "code",
      "source": [
        "import math\n",
        "\n",
        "# Problema 4: Función que calcula la concentración de ácido y base conjugada para un buffer\n",
        "# Utilizando la ecuación de Henderson-Hasselbalch: pH = pKa + log([Base]/[Ácido])\n",
        "# Parámetros:\n",
        "#   - pH_deseado: pH objetivo para el buffer (float)\n",
        "#   - Ka: constante de acidez del ácido débil (float)\n",
        "#   - volumen_ml: volumen de la solución buffer en mL (float)\n",
        "#   - concentracion_total: concentración total de ácido y base en M (float), ajustable para el análisis específico\n",
        "\n",
        "def calcularConcentracionesBuffer(pH_deseado, Ka, volumen_ml, concentracion_total=1.0):\n",
        "    # Conversión de Ka a pKa\n",
        "    pKa = -math.log10(Ka)\n",
        "\n",
        "    # Relación de concentraciones [Base] / [Ácido] en función del pH deseado\n",
        "    relacion_base_acido = 10 ** (pH_deseado - pKa)\n",
        "\n",
        "    # Cálculo de concentraciones de ácido y base en función de la relación obtenida y la concentración total\n",
        "    concentracion_acido = concentracion_total / (1 + relacion_base_acido)\n",
        "    concentracion_base = concentracion_acido * relacion_base_acido\n",
        "\n",
        "    # Conversión a moles de ácido y base en función del volumen especificado en mL\n",
        "    moles_acido = concentracion_acido * (volumen_ml / 1000)\n",
        "    moles_base = concentracion_base * (volumen_ml / 1000)\n",
        "\n",
        "    return concentracion_acido, concentracion_base, moles_acido, moles_base\n",
        "\n",
        "# Ejemplo #4: Cálculo de las concentraciones para un buffer con pH deseado de 4.76\n",
        "# Constante de acidez Ka = 1.75e-5 (ácido acético) y volumen de 100 mL\n",
        "concentracion_acido, concentracion_base, moles_acido, moles_base = calcularConcentracionesBuffer(4.76, 1.75e-5, 100)\n",
        "\n",
        "print(f\"Concentración de ácido: {concentracion_acido} M\")\n",
        "print(f\"Concentración de base conjugada: {concentracion_base} M\")\n",
        "print(f\"Moles de ácido: {moles_acido} mol\")\n",
        "print(f\"Moles de base conjugada: {moles_base} mol\")\n"
      ],
      "metadata": {
        "colab": {
          "base_uri": "https://localhost:8080/"
        },
        "id": "uA1xIv45u3Dk",
        "outputId": "8fc24bc1-05cc-4eac-d5e6-e2b38750fab3"
      },
      "execution_count": null,
      "outputs": [
        {
          "output_type": "stream",
          "name": "stdout",
          "text": [
            "Concentración de ácido: 0.49825116572740225 M\n",
            "Concentración de base conjugada: 0.5017488342725978 M\n",
            "Moles de ácido: 0.049825116572740226 mol\n",
            "Moles de base conjugada: 0.05017488342725978 mol\n"
          ]
        }
      ]
    },
    {
      "cell_type": "code",
      "source": [
        "# Problema 5: Función que calcula la energía liberada en una reacción química\n",
        "# Fórmula general: Energía = molesReactivo * deltaHFormacion\n",
        "# Parámetros: moles de reactivo y ΔH de formación (kJ/mol)\n",
        "\n",
        "def calcularEnergiaLiberada(molesReactivo, deltaHFormacion):\n",
        "    energia = molesReactivo * deltaHFormacion\n",
        "    return energia\n",
        "\n",
        "# Ejemplo #5: Cálculo de energía liberada con 2 moles de reactivo y ΔH de formación de -285.83 kJ/mol (para agua)\n",
        "energiaLiberada1 = calcularEnergiaLiberada(2, -285.83)\n",
        "print(f\"Energía liberada en la reacción: {energiaLiberada1} kJ\")\n"
      ],
      "metadata": {
        "colab": {
          "base_uri": "https://localhost:8080/"
        },
        "id": "lLeu3HTDKlDM",
        "outputId": "202dfc0d-ad27-4e3a-cc17-0448de47cc7b"
      },
      "execution_count": null,
      "outputs": [
        {
          "output_type": "stream",
          "name": "stdout",
          "text": [
            "Energía liberada en la reacción: -571.66 kJ\n"
          ]
        }
      ]
    },
    {
      "cell_type": "code",
      "source": [
        "# Problema 6: Función que calcula el rendimiento porcentual de una reacción\n",
        "# Fórmula general: Rendimiento % = (masaExperimental / masaTeorica) * 100\n",
        "# Parámetros: masa teórica y masa experimental (en gramos)\n",
        "\n",
        "def calcularRendimientoPorcentual(masaTeorica, masaExperimental):\n",
        "    rendimiento = (masaExperimental / masaTeorica) * 100\n",
        "    return rendimiento\n",
        "\n",
        "# Ejemplo #6: Cálculo de rendimiento porcentual con una masa teórica de 10 g y una masa experimental de 8 g\n",
        "rendimiento1 = calcularRendimientoPorcentual(10, 8)\n",
        "print(f\"Rendimiento porcentual de la reacción: {rendimiento1}%\")"
      ],
      "metadata": {
        "colab": {
          "base_uri": "https://localhost:8080/"
        },
        "id": "GD1lPQ-HMNgL",
        "outputId": "a56f1d32-ecb6-46db-dec2-b97b119221b0"
      },
      "execution_count": null,
      "outputs": [
        {
          "output_type": "stream",
          "name": "stdout",
          "text": [
            "Rendimiento porcentual de la reacción: 80.0%\n"
          ]
        }
      ]
    },
    {
      "cell_type": "code",
      "source": [
        "# Problema 7: Función que calcula el calor específico de un metal\n",
        "# Fórmula general: Calor específico = calorAbsorbido / (masa * deltaT)\n",
        "# Parámetros: masa en gramos, cambio de temperatura (°C) y calor absorbido (J)\n",
        "\n",
        "def calcularCalorEspecifico(masa, deltaT, calorAbsorbido):\n",
        "    calorEspecifico = calorAbsorbido / (masa * deltaT)\n",
        "    return calorEspecifico\n",
        "\n",
        "# Ejemplo #7: Cálculo del calor específico con masa de 50 g, ΔT de 25 °C, y calor absorbido de 500 J\n",
        "calorEspecifico1 = calcularCalorEspecifico(50, 25, 500)\n",
        "print(f\"Calor específico del metal: {calorEspecifico1} J/g°C\")\n"
      ],
      "metadata": {
        "colab": {
          "base_uri": "https://localhost:8080/"
        },
        "id": "-BBA0GBgN9u9",
        "outputId": "90d8dffb-824a-4590-e559-4b6c96e09251"
      },
      "execution_count": null,
      "outputs": [
        {
          "output_type": "stream",
          "name": "stdout",
          "text": [
            "Calor específico del metal: 0.4 J/g°C\n"
          ]
        }
      ]
    },
    {
      "cell_type": "code",
      "source": [
        "# Problema 8: Función que calcula la presión osmótica de una disolución\n",
        "# Fórmula general: Presión osmótica = Molaridad * R * T\n",
        "# Parámetros: concentración en gramos por litro, peso molecular del soluto y temperatura en °C\n",
        "\n",
        "def calcularPresionOsmotica(concentracion_gL, pesoMolecular, temperaturaC):\n",
        "    temperaturaK = temperaturaC + 273.15  # Convertir temperatura a Kelvin\n",
        "    molaridad = concentracion_gL / pesoMolecular  # Calcular molaridad (moles/L)\n",
        "    R = 0.0821  # Constante de los gases en L·atm/(mol·K)\n",
        "    presionOsmotica = molaridad * R * temperaturaK\n",
        "    return presionOsmotica\n",
        "\n",
        "# Ejemplo #1: Cálculo de la presión osmótica para una disolución con 1 g/L de soluto de peso molecular 180 g/mol a 25°C\n",
        "presionOsmotica = calcularPresionOsmotica(1, 180, 25)\n",
        "print(f\"Presión osmótica de la disolución: {presionOsmotica1} atm\")\n"
      ],
      "metadata": {
        "colab": {
          "base_uri": "https://localhost:8080/"
        },
        "id": "ZQoMQygyOhj_",
        "outputId": "abc57679-4acc-4630-85e6-23b9f70ced24"
      },
      "execution_count": null,
      "outputs": [
        {
          "output_type": "stream",
          "name": "stdout",
          "text": [
            "Presión osmótica de la disolución: 0.13598952777777779 atm\n"
          ]
        }
      ]
    },
    {
      "cell_type": "code",
      "source": [
        "# Problema 9: Función que calcula el producto de solubilidad (Kps) de una sal insoluble\n",
        "# Fórmula general para BaSO4: Kps = s^2\n",
        "# Parámetro: solubilidad en mol/L\n",
        "\n",
        "def calcularKps(solubilidad, compuesto):\n",
        "    if compuesto == \"BaSO4\":\n",
        "        kps = solubilidad ** 2  # Para BaSO4, Kps = s^2\n",
        "    else:\n",
        "        raise ValueError(\"Compuesto no soportado. Usa 'BaSO4'.\")\n",
        "    return kps\n",
        "\n",
        "# Ejemplo #9: Cálculo de Kps para BaSO4 con una solubilidad de 0.01 mol/L\n",
        "kps = calcularKps(0.01, \"BaSO4\")\n",
        "print(f\"Kps de BaSO4: {kps}\")"
      ],
      "metadata": {
        "colab": {
          "base_uri": "https://localhost:8080/"
        },
        "id": "iEUHGm5VQJgi",
        "outputId": "4800f593-8f95-4486-9c27-6ebde5e62496"
      },
      "execution_count": null,
      "outputs": [
        {
          "output_type": "stream",
          "name": "stdout",
          "text": [
            "Kps de BaSO4: 0.0001\n"
          ]
        }
      ]
    },
    {
      "cell_type": "code",
      "source": [
        "import numpy as np\n",
        "import matplotlib.pyplot as plt\n",
        "import pandas as pd\n",
        "\n",
        "# Problema 10: Cálculo de la energía libre (G) en función de la temperatura para varias reacciones\n",
        "# Fórmula: ΔG = ΔH - T * ΔS\n",
        "# Parámetros: entalpía (ΔH) en kJ/mol, entropía (ΔS) en J/(mol·K), y rango de temperaturas en Kelvin\n",
        "\n",
        "def calcularEnergiaLibre(dH, dS, temperaturas):\n",
        "    dG = dH - (temperaturas * dS / 1000)  # ΔG en kJ/mol (convertimos J a kJ dividiendo entre 1000)\n",
        "    return dG\n",
        "\n",
        "# Ejemplo #10: Cálculo de ΔG para ΔH = -200 kJ/mol, ΔS = 100 J/(mol·K), y temperaturas de 300 a 500 K\n",
        "temperaturas = np.linspace(300, 500, 20)  # Rango de temperaturas\n",
        "energiaLibre = calcularEnergiaLibre(-200, 100, temperaturas)\n",
        "\n",
        "# Crear DataFrame para mostrar resultados\n",
        "df = pd.DataFrame({\"Temperatura (K)\": temperaturas, \"Energía Libre ΔG (kJ/mol)\": energiaLibre})\n",
        "print(df)\n",
        "\n",
        "# Graficar energía libre en función de la temperatura\n",
        "plt.plot(temperaturas, energiaLibre, color='orange', marker='o')\n",
        "plt.xlabel(\"Temperatura (K)\")\n",
        "plt.ylabel(\"Energía Libre ΔG (kJ/mol)\")\n",
        "plt.title(\"Energía Libre en función de la Temperatura\")\n",
        "plt.grid()\n",
        "plt.show()\n"
      ],
      "metadata": {
        "colab": {
          "base_uri": "https://localhost:8080/",
          "height": 837
        },
        "id": "ZCJfT0q1Z-Cp",
        "outputId": "a331365d-3c49-4fe4-bcc0-b9aa08124b64"
      },
      "execution_count": null,
      "outputs": [
        {
          "output_type": "stream",
          "name": "stdout",
          "text": [
            "    Temperatura (K)  Energía Libre ΔG (kJ/mol)\n",
            "0        300.000000                -230.000000\n",
            "1        310.526316                -231.052632\n",
            "2        321.052632                -232.105263\n",
            "3        331.578947                -233.157895\n",
            "4        342.105263                -234.210526\n",
            "5        352.631579                -235.263158\n",
            "6        363.157895                -236.315789\n",
            "7        373.684211                -237.368421\n",
            "8        384.210526                -238.421053\n",
            "9        394.736842                -239.473684\n",
            "10       405.263158                -240.526316\n",
            "11       415.789474                -241.578947\n",
            "12       426.315789                -242.631579\n",
            "13       436.842105                -243.684211\n",
            "14       447.368421                -244.736842\n",
            "15       457.894737                -245.789474\n",
            "16       468.421053                -246.842105\n",
            "17       478.947368                -247.894737\n",
            "18       489.473684                -248.947368\n",
            "19       500.000000                -250.000000\n"
          ]
        },
        {
          "output_type": "display_data",
          "data": {
            "text/plain": [
              "<Figure size 640x480 with 1 Axes>"
            ],
            "image/png": "[encoded data removed]"
          },
          "metadata": {}
        }
      ]
    }
  ]
}