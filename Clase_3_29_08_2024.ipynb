{
  "nbformat": 4,
  "nbformat_minor": 0,
  "metadata": {
    "colab": {
      "provenance": [],
      "authorship_tag": "ABX9TyOOAGLrQQVdcXOUIiV6DlOU",
      "include_colab_link": true
    },
    "kernelspec": {
      "name": "python3",
      "display_name": "Python 3"
    },
    "language_info": {
      "name": "python"
    }
  },
  "cells": [
    {
      "cell_type": "markdown",
      "metadata": {
        "id": "view-in-github",
        "colab_type": "text"
      },
      "source": [
        "<a href=\"https://colab.research.google.com/github/Suiralexis/QM206-2024S/blob/main/Clase_3_29_08_2024.ipynb\" target=\"_parent\"><img src=\"https://colab.research.google.com/assets/colab-badge.svg\" alt=\"Open In Colab\"/></a>"
      ]
    },
    {
      "cell_type": "code",
      "execution_count": 2,
      "metadata": {
        "colab": {
          "base_uri": "https://localhost:8080/"
        },
        "id": "QY1FHiXKQG0y",
        "outputId": "b62d9551-28a1-4317-a587-1503f1ffeed9"
      },
      "outputs": [
        {
          "output_type": "stream",
          "name": "stdout",
          "text": [
            "2\n"
          ]
        }
      ],
      "source": [
        "x=7\n",
        "x%=5\n",
        "print(x)"
      ]
    },
    {
      "cell_type": "code",
      "source": [
        "x=5\n",
        "a=x**3\n",
        "x**=3\n",
        "print(a)\n",
        "print(x)\n"
      ],
      "metadata": {
        "colab": {
          "base_uri": "https://localhost:8080/"
        },
        "id": "j7UU3WbPQjmc",
        "outputId": "f900fdfd-874c-4899-c1c2-4340fe64a299"
      },
      "execution_count": 5,
      "outputs": [
        {
          "output_type": "stream",
          "name": "stdout",
          "text": [
            "125\n",
            "125\n"
          ]
        }
      ]
    },
    {
      "cell_type": "code",
      "source": [
        "est1=[\"Juan Perez\",22,1.70,\"Negro\",\"Quimica\", \"Unachi\"]\n",
        "print(est1[3])\n",
        "print(type(est1))"
      ],
      "metadata": {
        "colab": {
          "base_uri": "https://localhost:8080/"
        },
        "id": "cLydeMBhRiCx",
        "outputId": "4fb3e598-277a-44bf-8cf3-85a2cfd75b22"
      },
      "execution_count": 13,
      "outputs": [
        {
          "output_type": "stream",
          "name": "stdout",
          "text": [
            "Negro\n",
            "<class 'list'>\n"
          ]
        }
      ]
    },
    {
      "cell_type": "code",
      "source": [
        "datos=list((\"apple\",\"banana\",\"cherry\"))\n",
        "print(type(datos))\n",
        "thislist=list(datos)\n",
        "print(type(thislist))"
      ],
      "metadata": {
        "colab": {
          "base_uri": "https://localhost:8080/"
        },
        "id": "yzH_Bh_hSz-K",
        "outputId": "c62593d8-5ab2-483d-f408-88f4f40686b1"
      },
      "execution_count": 16,
      "outputs": [
        {
          "output_type": "stream",
          "name": "stdout",
          "text": [
            "<class 'list'>\n",
            "<class 'list'>\n"
          ]
        }
      ]
    },
    {
      "cell_type": "code",
      "source": [
        "estudiantes=[\"Juan\",\"Pedro\",\"Jose\"]\n",
        "print(estudiantes)\n",
        "estudiantes.append(\"Maria\")\n",
        "print(estudiantes)\n",
        "estudiantes.insert(2,\"Luis\")\n",
        "print(estudiantes)\n",
        "profesores=[\"Viviana\",\"Dayli\",\"Dixon\"]\n",
        "estudiantes.extend(profesores)\n",
        "print(estudiantes)\n",
        "estudiantes.remove(\"Dixon\")\n",
        "print(estudiantes)\n",
        "estudiantes.remove(\"Juan\")\n",
        "print(estudiantes)"
      ],
      "metadata": {
        "colab": {
          "base_uri": "https://localhost:8080/"
        },
        "id": "ZGlAs3yJTjRG",
        "outputId": "a3d3f9d0-1383-473a-9109-6e4e6c40e455"
      },
      "execution_count": 24,
      "outputs": [
        {
          "output_type": "stream",
          "name": "stdout",
          "text": [
            "['Juan', 'Pedro', 'Jose']\n",
            "['Juan', 'Pedro', 'Jose', 'Maria']\n",
            "['Juan', 'Pedro', 'Luis', 'Jose', 'Maria']\n",
            "['Juan', 'Pedro', 'Luis', 'Jose', 'Maria', 'Viviana', 'Dayli', 'Dixon']\n",
            "['Juan', 'Pedro', 'Luis', 'Jose', 'Maria', 'Viviana', 'Dayli']\n",
            "['Pedro', 'Luis', 'Jose', 'Maria', 'Viviana', 'Dayli']\n"
          ]
        }
      ]
    }
  ]
}