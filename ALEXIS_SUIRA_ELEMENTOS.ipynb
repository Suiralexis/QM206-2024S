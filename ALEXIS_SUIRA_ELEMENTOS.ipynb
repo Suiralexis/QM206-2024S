{
  "nbformat": 4,
  "nbformat_minor": 0,
  "metadata": {
    "colab": {
      "provenance": [],
      "authorship_tag": "ABX9TyOB739PPJMfJDgSfuBRf4sH",
      "include_colab_link": true
    },
    "kernelspec": {
      "name": "python3",
      "display_name": "Python 3"
    },
    "language_info": {
      "name": "python"
    }
  },
  "cells": [
    {
      "cell_type": "markdown",
      "metadata": {
        "id": "view-in-github",
        "colab_type": "text"
      },
      "source": [
        "<a href=\"https://colab.research.google.com/github/Suiralexis/QM206-2024S/blob/main/ALEXIS_SUIRA_ELEMENTOS.ipynb\" target=\"_parent\"><img src=\"https://colab.research.google.com/assets/colab-badge.svg\" alt=\"Open In Colab\"/></a>"
      ]
    },
    {
      "cell_type": "code",
      "execution_count": null,
      "metadata": {
        "colab": {
          "base_uri": "https://localhost:8080/"
        },
        "id": "mNcHCebMHsv-",
        "outputId": "d229e378-ca90-4e3a-cf69-8a65ba74edfd"
      },
      "outputs": [
        {
          "output_type": "stream",
          "name": "stdout",
          "text": [
            "{'simbolo': 'K', 'Numero atomico': 19, 'Masa atomica': 39.1}\n"
          ]
        }
      ],
      "source": [
        "elementos=[]\n",
        "elem={\"simbolo\":\"H\",\"Numero atomico\":1,\"Masa atomica\":1.008}\n",
        "elementos.append(elem)\n",
        "elem={\"simbolo\":\"He\",\"Numero atomico\":2,\"Masa atomica\":4.0}\n",
        "elementos.append(elem)\n",
        "elem={\"simbolo\":\"Li\",\"Numero atomico\":3,\"Masa atomica\":6.94}\n",
        "elementos.append(elem)\n",
        "elem={\"simbolo\":\"Be\",\"Numero atomico\":4,\"Masa atomica\":9.012}\n",
        "elementos.append(elem)\n",
        "elem={\"simbolo\":\"B\",\"Numero atomico\":5,\"Masa atomica\":10.811}\n",
        "elementos.append(elem)\n",
        "elem={\"simbolo\":\"C\",\"Numero atomico\":6,\"Masa atomica\":12.01}\n",
        "elementos.append(elem)\n",
        "elem={\"simbolo\":\"N\",\"Numero atomico\":7,\"Masa atomica\":14.01}\n",
        "elementos.append(elem)\n",
        "elem={\"simbolo\":\"O\",\"Numero atomico\":8,\"Masa atomica\":16.0}\n",
        "elementos.append(elem)\n",
        "elem={\"simbolo\":\"F\",\"Numero atomico\":9, \"Masa atomica\":19.0}\n",
        "elementos.append(elem)\n",
        "elem={\"simbolo\":\"Ne\",\"Numero atomico\":10, \"Masa atomica\":20.2}\n",
        "elementos.append(elem)\n",
        "elem={\"simbolo\":\"Na\",\"Numero atomico\":11,\"Masa atomica\":22.99}\n",
        "elementos.append(elem)\n",
        "elem={\"simbolo\":\"Mg\",\"Numero atomico\":12,\"Masa atomica\":24.31}\n",
        "elementos.append(elem)\n",
        "elem={\"simbolo\":\"Al\",\"Numero atomico\":13,\"Masa atomica\":27.0}\n",
        "elementos.append(elem)\n",
        "elem={\"simbolo\":\"Si\",\"Numero atomico\":14,\"Masa atomica\":28.09}\n",
        "elementos.append(elem)\n",
        "elem={\"simbolo\":\"P\",\"Numero atomico\":15,\"Masa atomica\":30.97}\n",
        "elementos.append(elem)\n",
        "elem={\"simbolo\":\"S\",\"Numero atomico\":16,\"Masa atomica\":32.07}\n",
        "elementos.append(elem)\n",
        "elem={\"simbolo\":\"Cl\",\"Numero atomico\":17,\"Masa atomica\":35.45}\n",
        "elementos.append(elem)\n",
        "elem={\"simbolo\":\"Ar\",\"Numero atomico\":18,\"Masa atomica\":40.0}\n",
        "elementos.append(elem)\n",
        "elem={\"simbolo\":\"K\",\"Numero atomico\":19,\"Masa atomica\":39.10}\n",
        "elementos.append(elem)\n",
        "elem={\"simbolo\":\"Ca\",\"Numero atomico\":20,\"Masa atomica\":40.08}\n",
        "\n",
        "print(elementos[18])\n"
      ]
    },
    {
      "cell_type": "code",
      "source": [],
      "metadata": {
        "id": "nuWW5sRUOYVK"
      },
      "execution_count": null,
      "outputs": []
    }
  ]
}